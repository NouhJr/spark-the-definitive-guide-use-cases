{
 "cells": [
  {
   "cell_type": "markdown",
   "id": "63f4557d",
   "metadata": {},
   "source": [
    "## Importing necessary packages and creating new spark session."
   ]
  },
  {
   "cell_type": "code",
   "execution_count": 8,
   "id": "1717c3cc",
   "metadata": {},
   "outputs": [],
   "source": [
    "#Using 'findspark' package to locate spark from jupyter notebook.\n",
    "import findspark\n",
    "findspark.init()\n",
    "\n",
    "#Importing the necessary packages.\n",
    "from pyspark import SparkContext\n",
    "from pyspark.sql import SparkSession, Window, Row\n",
    "from pyspark.sql.functions import *\n",
    "from pyspark.sql.types import *\n",
    "import matplotlib.pyplot as plt"
   ]
  },
  {
   "cell_type": "code",
   "execution_count": 9,
   "id": "122bf365",
   "metadata": {},
   "outputs": [
    {
     "data": {
      "text/html": [
       "\n",
       "            <div>\n",
       "                <p><b>SparkSession - in-memory</b></p>\n",
       "                \n",
       "        <div>\n",
       "            <p><b>SparkContext</b></p>\n",
       "\n",
       "            <p><a href=\"http://192.168.1.5:4040\">Spark UI</a></p>\n",
       "\n",
       "            <dl>\n",
       "              <dt>Version</dt>\n",
       "                <dd><code>v3.0.3</code></dd>\n",
       "              <dt>Master</dt>\n",
       "                <dd><code>local</code></dd>\n",
       "              <dt>AppName</dt>\n",
       "                <dd><code>Bundesliga Stats</code></dd>\n",
       "            </dl>\n",
       "        </div>\n",
       "        \n",
       "            </div>\n",
       "        "
      ],
      "text/plain": [
       "<pyspark.sql.session.SparkSession at 0x23452de7b50>"
      ]
     },
     "execution_count": 9,
     "metadata": {},
     "output_type": "execute_result"
    }
   ],
   "source": [
    "#Creating new spark session and app.\n",
    "spark = SparkSession.Builder().master(\"local\").appName(\"Bundesliga Stats\").getOrCreate()\n",
    "sc = spark.sparkContext\n",
    "spark"
   ]
  },
  {
   "cell_type": "markdown",
   "id": "5fec1bc6",
   "metadata": {},
   "source": [
    "## Creating new dataframe and explore our data."
   ]
  },
  {
   "cell_type": "code",
   "execution_count": 10,
   "id": "a4753ab6",
   "metadata": {},
   "outputs": [
    {
     "name": "stdout",
     "output_type": "stream",
     "text": [
      "+--------+---+------+----------+-------------+--------------+----+----+---+\n",
      "|Match_ID|Div|Season|      Date|     HomeTeam|      AwayTeam|FTHG|FTAG|FTR|\n",
      "+--------+---+------+----------+-------------+--------------+----+----+---+\n",
      "|       1| D2|  2009|2010-04-04|   Oberhausen|Kaiserslautern|   2|   1|  H|\n",
      "|       2| D2|  2009|2009-11-01|  Munich 1860|Kaiserslautern|   0|   1|  A|\n",
      "|       3| D2|  2009|2009-10-04|Frankfurt FSV|Kaiserslautern|   1|   1|  D|\n",
      "|       4| D2|  2009|2010-02-21|Frankfurt FSV|     Karlsruhe|   2|   1|  H|\n",
      "|       5| D2|  2009|2009-12-06|        Ahlen|     Karlsruhe|   1|   3|  A|\n",
      "+--------+---+------+----------+-------------+--------------+----+----+---+\n",
      "\n"
     ]
    }
   ],
   "source": [
    "#function to read data files into pyspark dataframe, takes the file path and format as parameters.\n",
    "def load_dataframe(filename, fileformat):\n",
    "    df = spark.read.format(fileformat).options(header='true').load(filename)\n",
    "    return df\n",
    "\n",
    "#creating a dataframe\n",
    "df_matches = load_dataframe('D:/Data Career/Projects/Spark/Bundesliga/Data/Matches.csv','csv')\n",
    "\n",
    "#showing the first five rows of the dataframe.\n",
    "df_matches.limit(5).show()"
   ]
  },
  {
   "cell_type": "code",
   "execution_count": 11,
   "id": "2ca61ef4",
   "metadata": {},
   "outputs": [
    {
     "name": "stdout",
     "output_type": "stream",
     "text": [
      "+--------+---+------+----------+-------------+--------------+-------------+-------------+-----------+\n",
      "|Match_ID|Div|Season|      Date|     HomeTeam|      AwayTeam|HomeTeamGoals|AwayTeamGoals|FinalResult|\n",
      "+--------+---+------+----------+-------------+--------------+-------------+-------------+-----------+\n",
      "|       1| D2|  2009|2010-04-04|   Oberhausen|Kaiserslautern|            2|            1|          H|\n",
      "|       2| D2|  2009|2009-11-01|  Munich 1860|Kaiserslautern|            0|            1|          A|\n",
      "|       3| D2|  2009|2009-10-04|Frankfurt FSV|Kaiserslautern|            1|            1|          D|\n",
      "|       4| D2|  2009|2010-02-21|Frankfurt FSV|     Karlsruhe|            2|            1|          H|\n",
      "|       5| D2|  2009|2009-12-06|        Ahlen|     Karlsruhe|            1|            3|          A|\n",
      "+--------+---+------+----------+-------------+--------------+-------------+-------------+-----------+\n",
      "\n"
     ]
    }
   ],
   "source": [
    "#lets rename some of the columns to be more meaningful.\n",
    "old_cols = df_matches.columns[-3:]\n",
    "new_cols = [\"HomeTeamGoals\", \"AwayTeamGoals\", \"FinalResult\"]\n",
    "old_new_cols = [*zip(old_cols, new_cols)]\n",
    "for old_col, new_col in old_new_cols:\n",
    "    df_matches = df_matches.withColumnRenamed(old_col, new_col)\n",
    "\n",
    "#showing the first five rows of the dataframe.\n",
    "df_matches.limit(5).show()    "
   ]
  },
  {
   "cell_type": "markdown",
   "id": "8716b6b6",
   "metadata": {},
   "source": [
    "## Who are the winners of the D1 division in the Germany Football Association (Bundesliga) between 2000–2010?"
   ]
  },
  {
   "cell_type": "code",
   "execution_count": 15,
   "id": "bb4456f3",
   "metadata": {},
   "outputs": [],
   "source": [
    "#creating new columns to count results.\n",
    "df_matches = df_matches \\\n",
    "    .withColumn('HomeTeamWin', when(col('FinalResult') == 'H', 1).otherwise(0)) \\\n",
    "    .withColumn('AwayTeamWin', when(col('FinalResult') == 'A', 1).otherwise(0)) \\\n",
    "    .withColumn('GameTie', when(col('FinalResult') == 'D', 1).otherwise(0))\n",
    "\n",
    "#bundesliga is a D1 division and we are interested in season <= 2010 and >= 2000\n",
    "bundesliga = df_matches \\\n",
    "                    .filter((col('Season') >= 2000) & \n",
    "                            (col('Season') <= 2010) & \n",
    "                            (col('Div') == 'D1'))\n",
    "\n",
    "# home team features\n",
    "home = bundesliga.groupby('Season', 'HomeTeam') \\\n",
    "       .agg(sum('HomeTeamWin').alias('TotalHomeWin'),\n",
    "            sum('AwayTeamWin').alias('TotalHomeLoss'),\n",
    "            sum('GameTie').alias('TotalHomeTie'),\n",
    "            sum('HomeTeamGoals').alias('HomeScoredGoals'),\n",
    "            sum('AwayTeamGoals').alias('HomeAgainstGoals')) \\\n",
    "       .withColumnRenamed('HomeTeam', 'Team')\n",
    "\n",
    "#away game features \n",
    "away =  bundesliga.groupby('Season', 'AwayTeam') \\\n",
    "       .agg(sum('AwayTeamWin').alias('TotalAwayWin'),\n",
    "            sum('HomeTeamWin').alias('TotalAwayLoss'),\n",
    "            sum('GameTie').alias('TotalAwayTie'),\n",
    "            sum('AwayTeamGoals').alias('AwayScoredGoals'),\n",
    "            sum('HomeTeamGoals').alias('AwayAgainstGoals'))  \\\n",
    "       .withColumnRenamed('AwayTeam', 'Team')"
   ]
  },
  {
   "cell_type": "markdown",
   "id": "3ee84513",
   "metadata": {},
   "source": [
    "#### Then, inner join them on ‘Team’ and ‘Season’ fields to create a single dataframe containing game level aggregation: table. After that, we use a basic window function to further aggregate game statistics on season level and rank them based on winning percentage and goal differentials."
   ]
  },
  {
   "cell_type": "code",
   "execution_count": 20,
   "id": "efc67277",
   "metadata": {},
   "outputs": [
    {
     "name": "stdout",
     "output_type": "stream",
     "text": [
      "+-------------+------+-----------+------------+-----------------+---+----+---+------+------------+\n",
      "|         Team|Season|GoalsScored|GoalsAgainst|GoalDifferentials|Win|Loss|Tie|WinPct|TeamPosition|\n",
      "+-------------+------+-----------+------------+-----------------+---+----+---+------+------------+\n",
      "|Bayern Munich|  2000|       62.0|        37.0|             25.0| 19|   9|  6| 55.88|           1|\n",
      "|   Leverkusen|  2001|       77.0|        38.0|             39.0| 21|   7|  6| 61.76|           1|\n",
      "|Bayern Munich|  2002|       70.0|        25.0|             45.0| 23|   5|  6| 67.65|           1|\n",
      "|Werder Bremen|  2003|       79.0|        38.0|             41.0| 22|   4|  8| 64.71|           1|\n",
      "|Bayern Munich|  2004|       75.0|        33.0|             42.0| 24|   5|  5| 70.59|           1|\n",
      "|Bayern Munich|  2005|       67.0|        32.0|             35.0| 22|   3|  9| 64.71|           1|\n",
      "|    Stuttgart|  2006|       61.0|        37.0|             24.0| 21|   6|  7| 61.76|           1|\n",
      "|Bayern Munich|  2007|       68.0|        21.0|             47.0| 22|   2| 10| 64.71|           1|\n",
      "|    Wolfsburg|  2008|       80.0|        41.0|             39.0| 21|   7|  6| 61.76|           1|\n",
      "|Bayern Munich|  2009|       72.0|        31.0|             41.0| 20|   4| 10| 58.82|           1|\n",
      "|     Dortmund|  2010|       67.0|        22.0|             45.0| 23|   5|  6| 67.65|           1|\n",
      "+-------------+------+-----------+------------+-----------------+---+----+---+------+------------+\n",
      "\n"
     ]
    }
   ],
   "source": [
    "#season features\n",
    "window = ['Season']\n",
    "window = Window.partitionBy(window).orderBy(col('WinPct').desc(), col('GoalDifferentials').desc())\n",
    "table = home.join(away, ['Team', 'Season'],  'inner') \\\n",
    "    .withColumn('GoalsScored', col('HomeScoredGoals') + col('AwayScoredGoals')) \\\n",
    "    .withColumn('GoalsAgainst', col('HomeAgainstGoals') + col('AwayAgainstGoals')) \\\n",
    "    .withColumn('GoalDifferentials', col('GoalsScored') - col('GoalsAgainst')) \\\n",
    "    .withColumn('Win', col('TotalHomeWin') + col('TotalAwayWin')) \\\n",
    "    .withColumn('Loss', col('TotalHomeLoss') + col('TotalAwayLoss')) \\\n",
    "    .withColumn('Tie', col('TotalHomeTie') + col('TotalAwayTie')) \\\n",
    "    .withColumn('WinPct', round((100* col('Win')/(col('Win') + col('Loss') + col('Tie'))), 2)) \\\n",
    "    .drop('HomeScoredGoals', 'AwayScoredGoals', 'HomeAgainstGoals', 'AwayAgainstGoals') \\\n",
    "    .drop('TotalHomeWin', 'TotalAwayWin', 'TotalHomeLoss', 'TotalAwayLoss', 'TotalHomeTie', 'TotalAwayTie') \\\n",
    "    .withColumn('TeamPosition', rank().over(window)) \n",
    "\n",
    "table_df = table.filter(col('TeamPosition') == 1).orderBy(asc('Season'))\n",
    "\n",
    "#printing the final result.\n",
    "table_df.show()"
   ]
  },
  {
   "cell_type": "markdown",
   "id": "2987f6ae",
   "metadata": {},
   "source": [
    "## Which teams have been relegated in the past 2000 - 2010 years?"
   ]
  },
  {
   "cell_type": "code",
   "execution_count": 22,
   "id": "d972557e",
   "metadata": {},
   "outputs": [
    {
     "name": "stdout",
     "output_type": "stream",
     "text": [
      "+-------------+------+-----------+------------+-----------------+---+----+---+------+------------+\n",
      "|         Team|Season|GoalsScored|GoalsAgainst|GoalDifferentials|Win|Loss|Tie|WinPct|TeamPosition|\n",
      "+-------------+------+-----------+------------+-----------------+---+----+---+------+------------+\n",
      "|       Bochum|  2000|       30.0|        67.0|            -37.0|  7|  21|  6| 20.59|          18|\n",
      "|    Stuttgart|  2000|       42.0|        49.0|             -7.0|  9|  14| 11| 26.47|          16|\n",
      "| Unterhaching|  2000|       35.0|        59.0|            -24.0|  8|  15| 11| 23.53|          17|\n",
      "|      FC Koln|  2001|       26.0|        61.0|            -35.0|  7|  19|  8| 20.59|          17|\n",
      "|     Freiburg|  2001|       37.0|        64.0|            -27.0|  7|  18|  9| 20.59|          16|\n",
      "|     St Pauli|  2001|       37.0|        70.0|            -33.0|  4|  20| 10| 11.76|          18|\n",
      "|     Nurnberg|  2002|       33.0|        60.0|            -27.0|  8|  20|  6| 23.53|          17|\n",
      "|    Bielefeld|  2002|       35.0|        46.0|            -11.0|  8|  14| 12| 23.53|          16|\n",
      "|      Cottbus|  2002|       34.0|        64.0|            -30.0|  7|  18|  9| 20.59|          18|\n",
      "|  Munich 1860|  2003|       32.0|        55.0|            -23.0|  8|  18|  8| 23.53|          17|\n",
      "|      FC Koln|  2003|       32.0|        57.0|            -25.0|  6|  23|  5| 17.65|          18|\n",
      "|Hansa Rostock|  2004|       31.0|        65.0|            -34.0|  7|  18|  9| 20.59|          17|\n",
      "|   M'gladbach|  2004|       35.0|        51.0|            -16.0|  8|  14| 12| 23.53|          16|\n",
      "|     Freiburg|  2004|       30.0|        75.0|            -45.0|  3|  22|  9|  8.82|          18|\n",
      "|      FC Koln|  2005|       49.0|        71.0|            -22.0|  7|  18|  9| 20.59|          16|\n",
      "|    Wolfsburg|  2005|       33.0|        55.0|            -22.0|  7|  14| 13| 20.59|          16|\n",
      "|     Duisburg|  2005|       34.0|        63.0|            -29.0|  5|  17| 12| 14.71|          18|\n",
      "|    Wolfsburg|  2006|       37.0|        45.0|             -8.0|  8|  13| 13| 23.53|          16|\n",
      "|        Mainz|  2006|       34.0|        57.0|            -23.0|  8|  16| 10| 23.53|          17|\n",
      "|   M'gladbach|  2006|       23.0|        44.0|            -21.0|  6|  20|  8| 17.65|          18|\n",
      "+-------------+------+-----------+------------+-----------------+---+----+---+------+------------+\n",
      "only showing top 20 rows\n",
      "\n"
     ]
    }
   ],
   "source": [
    "# lets check for 2000s\n",
    "relegated = table.filter((col('TeamPosition') == 16) | \n",
    "             (col('TeamPosition') == 17) |\n",
    "             (col('TeamPosition') == 18)).orderBy(asc('Season')) \n",
    "relegated.filter(col('Season') == 2000)\n",
    "\n",
    "#printing the final result.\n",
    "relegated.show()"
   ]
  },
  {
   "cell_type": "code",
   "execution_count": null,
   "id": "1995344d",
   "metadata": {},
   "outputs": [],
   "source": []
  }
 ],
 "metadata": {
  "celltoolbar": "Raw Cell Format",
  "kernelspec": {
   "display_name": "Python 3 (ipykernel)",
   "language": "python",
   "name": "python3"
  },
  "language_info": {
   "codemirror_mode": {
    "name": "ipython",
    "version": 3
   },
   "file_extension": ".py",
   "mimetype": "text/x-python",
   "name": "python",
   "nbconvert_exporter": "python",
   "pygments_lexer": "ipython3",
   "version": "3.9.16"
  }
 },
 "nbformat": 4,
 "nbformat_minor": 5
}
